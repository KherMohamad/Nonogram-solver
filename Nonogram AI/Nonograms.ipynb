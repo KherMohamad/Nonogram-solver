{
  "nbformat": 4,
  "nbformat_minor": 0,
  "metadata": {
    "colab": {
      "name": "Tema1_IA.ipynb",
      "provenance": []
    },
    "kernelspec": {
      "name": "python3",
      "display_name": "Python 3"
    },
    "language_info": {
      "name": "python"
    }
  },
  "cells": [
    {
      "cell_type": "code",
      "metadata": {
        "id": "JsJquCNDb4wl"
      },
      "source": [
        "import copy as cp\n",
        "import matplotlib.pyplot as plt\n",
        "import numpy as np\n",
        "import json\n",
        "import time\n",
        "FILEPATH = 'Teste/test3.json'\n",
        "with open(FILEPATH) as f: #nu am implementat citirea numelor\n",
        "  data = json.load(f)               #deoarece am lucrat in Google Collab\n",
        "name = data['name']                 # deci cale fisierului va trebui sa\n",
        "height = data['height']             # fie pusa manual\n",
        "width = data['width']\n",
        "rows = data['rows']\n",
        "columns = data['columns']\n",
        "grid = [[0 for i in range(width)] for j in range(height)]"
      ],
      "execution_count": 178,
      "outputs": []
    },
    {
      "cell_type": "code",
      "metadata": {
        "id": "2myRJC14w3Ry"
      },
      "source": [
        "def validHelper(grid, currentSequence, row, end, col): #functie ajutatoare pentru cea de mai jos\n",
        "  if row == end:                                       #verifica daca lungimea unei secvente este egala \n",
        "    return False                                       #cu lungimea ceruta in conditia de coloana\n",
        "  sequenceLength = 0\n",
        "  while grid[row][col] and row <= end:\n",
        "    row += 1\n",
        "    sequenceLength += 1\n",
        "    if row > end:\n",
        "      break\n",
        "  \n",
        "  return (sequenceLength == currentSequence), sequenceLength, row\n",
        "\n",
        "def enoughSpace(columns, nrRowsLeft):      #verifica pentru o coloana a gridului daca mai\n",
        "  minSizeNeeded = 0                        # este spatiu suficient dintr-un punct anume \n",
        "  for currentSequence in columns:          # pentru a completa toate secventerle ramase\n",
        "    minSizeNeeded += currentSequence\n",
        "    minSizeNeeded += 1\n",
        "  minSizeNeeded -= 1\n",
        "  return nrRowsLeft >= minSizeNeeded\n",
        "\n",
        "\n",
        "def isValid(grid, columns, height, width): #verifica daca un grid respecta conditiile de coloane\n",
        "  for col in range(width):\n",
        "    row = 0\n",
        "    for currentSequence in columns[col]:     #pentru fiecare conditie de coloana verifica daca se gaseste secventa respectiva\n",
        "      while not grid[row][col] and row < height - 1:     #trece de campurile necolorate\n",
        "        row += 1\n",
        "      if row == height - 1:                      #daca s-a ajuns la ultimul camp din coloana iar nici acesta\n",
        "        if not grid[row][col]:                   #nu este colorat, se poate spune clar ca nu se respecta conditiile(daca erau nule nu se intra in for)\n",
        "          return False\n",
        "        else:\n",
        "          break\n",
        "      sequenceFound, sequenceLength, row = validHelper(grid, currentSequence, row, height - 1, col)\n",
        "      if not sequenceFound:\n",
        "        return False\n",
        "  return True\n",
        "def canWork(grid, columns, height, width, currHeight): #verifica pentru un grid pana un punct anume daca acesta mai\n",
        "  if currHeight == height:                                   # poate fi expandat intr-o solutie corecta\n",
        "    return isValid(grid, columns, height, width)\n",
        "  for col in range(width):\n",
        "    row = 0\n",
        "    currSequenceIndex = 0\n",
        "    for currentSequence in columns[col]:\n",
        "      while not grid[row][col] and row < currHeight - 1:\n",
        "        row += 1\n",
        "      if row == currHeight - 1:\n",
        "        if not enoughSpace(columns[col][currSequenceIndex:], height -  currHeight + 1):\n",
        "          return False\n",
        "        else:\n",
        "          break\n",
        "      sequenceFound, sequenceLength, row = validHelper(grid, currentSequence, row, currHeight - 1, col)\n",
        "      if not sequenceFound:\n",
        "        if sequenceLength < currentSequence:  #spre deosebire de isValid, canWork accepta o lungime mai mica a\n",
        "          if row > currHeight - 1:            # secventei daca s-a ajuns la ultimul rand de verificat(secventa s-ar putea continua in grid)\n",
        "            if not enoughSpace(columns[col][currSequenceIndex:], height - currHeight + sequenceLength):\n",
        "              return False\n",
        "            else:\n",
        "              break\n",
        "          else:\n",
        "            return False\n",
        "        else:\n",
        "          return False\n",
        "      currSequenceIndex += 1\n",
        "  return True\n",
        "\n",
        "\n",
        "\n",
        "\n",
        "        \n",
        "  "
      ],
      "execution_count": 179,
      "outputs": []
    },
    {
      "cell_type": "code",
      "metadata": {
        "id": "6fp7g5ad9beP"
      },
      "source": [
        "def getMinFreeSpace(sequencesLeft):  #returneaza spatiul minim necesar pentru a putea termina toate secventele\n",
        "  minFreeSpace = 0\n",
        "  for sequence in sequencesLeft:\n",
        "    minFreeSpace += sequence + 1\n",
        "  return minFreeSpace - 2\n",
        "\n",
        "def getRowValidPermutations(rowSequences, width, sequenceIndex, startPosition): #returneaza o lista de liste ce contine\n",
        "  if rowSequences == []:                                                        #, pentru un rand, toate permutarile pentru care sunt respectate conditiile de rand\n",
        "    return []\n",
        "  permutationsList = []\n",
        "  endPosition = width - getMinFreeSpace(rowSequences[sequenceIndex:])\n",
        "  #if sequenceIndex == len(rowSequences) - 1:\n",
        "  # endPosition += 1\n",
        "  for i in range(startPosition, endPosition):\n",
        "    if sequenceIndex == len(rowSequences) - 1:\n",
        "      permutationsList += [[i]]\n",
        "    else:\n",
        "      permutationsList += list(map(lambda x: [i] + x, getRowValidPermutations(rowSequences, width, sequenceIndex + 1, i + rowSequences[sequenceIndex] + 1)))\n",
        "  return permutationsList\n"
      ],
      "execution_count": 180,
      "outputs": []
    },
    {
      "cell_type": "markdown",
      "metadata": {
        "id": "w58AkD4ldlFt"
      },
      "source": [
        "node = {'index': INT, 'level': INT, 'children' = {...}, 'positions': []} structura nodului pentru cautarea dfs\n"
      ]
    },
    {
      "cell_type": "code",
      "metadata": {
        "id": "nzkRDBMD4Wc_"
      },
      "source": [
        "def applyPositionsToGrid(grid, sequences, positions, row):  #coloreaza secventele date, pe pozitile alese pentru un rand anume\n",
        "  for i in range(len(positions)):\n",
        "    sequenceIterator = sequences[i]\n",
        "    while sequenceIterator:\n",
        "      grid[row][positions[i] + sequences[i] - sequenceIterator] = 1\n",
        "      sequenceIterator -= 1\n",
        "\n",
        "\n",
        "\n",
        "INDEX = 'index'\n",
        "LEVEL = 'level'\n",
        "CHILDREN = 'children'\n",
        "POS = 'positions'\n",
        "\n",
        "nextNodeIndex = 1 \n",
        "def dfsSearch(grid, node, height, width, rows, columns): #algoritmul dfs. Va returna solutia ca lista de indici de noduri\n",
        "  global nextNodeIndex\n",
        "  if node[LEVEL] != -1:    #daca nodul nu este cel radacina se aplica pozitile generate pentru nod\n",
        "    applyPositionsToGrid(grid, rows[node[LEVEL]], node[POS], node[LEVEL])\n",
        "    if not canWork(grid, columns, height, width, node[LEVEL] + 1): #daca nu se mai poate genera o solutie din punctul actual\n",
        "      return False                                                 #returneaza fals\n",
        "  if node[LEVEL] == height - 1:                          #daca sa ajuns la ultimul nivel se verifica daca grid-ul este o solutie sau nu\n",
        "    if not isValid(grid, columns, height, width):\n",
        "      return False\n",
        "    else:\n",
        "      return [node[INDEX]]\n",
        "  \n",
        "  permutationsList = getRowValidPermutations(rows[node[LEVEL] + 1], width, 0, 0) #se genereaza permutarile\n",
        "  nrBlankRows = 0                               \n",
        "  while permutationsList == []:                   #se trece peste randurile ce au un set de secvente vid\n",
        "    nrBlankRows += 1\n",
        "    permutationsList = getRowValidPermutations(rows[node[LEVEL] + nrBlankRows + 1], width, 0, 0)\n",
        "\n",
        "  for position in permutationsList: #se creeaza un copil pentru fiecare permutare posibila\n",
        "    childNode = {}\n",
        "    childNode[INDEX] = nextNodeIndex\n",
        "    childNode[LEVEL] = node[LEVEL] + nrBlankRows + 1\n",
        "    childNode[CHILDREN] = {}\n",
        "    childNode[POS] = position\n",
        "    node[CHILDREN][nextNodeIndex] = childNode\n",
        "    nextNodeIndex += 1\n",
        "    continuedSolution = dfsSearch(cp.deepcopy(grid), childNode, height, width, rows, columns) #se apeleaza dfs pe copil\n",
        "    if continuedSolution:\n",
        "      if node[LEVEL] != -1:            #se adauga la solutia returnata indicele nodului si -1 pentru fiecare rand vid dinaintea lui\n",
        "        for i in range(nrBlankRows):\n",
        "          continuedSolution.insert(0, -1)\n",
        "        continuedSolution.insert(0, node[INDEX]) \n",
        "      return continuedSolution\n",
        "    \n",
        "  return False\n",
        "\n",
        "\n",
        "def generateGrid(grid, root, rows, height, width, solution): #se genereaza gridul pe baza listei de noduri solutie\n",
        "  if solution == False:\n",
        "    print('Nu a fost gasita o solutie')\n",
        "  nodeIter = root\n",
        "  for currentRowsolution in solution:\n",
        "    if currentRowsolution != -1:\n",
        "      nodeIter = nodeIter['children'][currentRowsolution]\n",
        "      applyPositionsToGrid(grid, rows[nodeIter[LEVEL]], nodeIter[POS], nodeIter[LEVEL])\n",
        "\n",
        "\n",
        "\n"
      ],
      "execution_count": 181,
      "outputs": []
    },
    {
      "cell_type": "markdown",
      "metadata": {
        "id": "n8tT6w0bvvxS"
      },
      "source": [
        "node = {'index': INT, 'level': INT, 'children' = {...}, 'positionsList': [[]]} pentru cautarea bfs singura modificare va fi faptul ca  vom retine in positions si pozitile nodurilor stramos"
      ]
    },
    {
      "cell_type": "code",
      "metadata": {
        "id": "9NTIPwDmwGBk"
      },
      "source": [
        "POSLIST = 'positionsList'\n",
        "nextNodeIndexBFS = 0\n",
        "def bfsSearch(grid, node, height, width, rows, columns):\n",
        "  global nextNodeIndexBFS\n",
        "  queue = []\n",
        "  queue.append(node)\n",
        "  while len(queue) > 0:\n",
        "    currNode = queue.pop()\n",
        "    if currNode[LEVEL] != -1:\n",
        "      grid = [[0 for i in range(width)] for j in range(height)]\n",
        "      currentPositionIndex = 0\n",
        "      for positions in node[POSLIST]:\n",
        "        applyPositionsToGrid(grid, rows[node[LEVEL]], positions[i], currentPositionIndex)\n",
        "        currentPositionIndex += 1\n",
        "      if not canWork(grid, columns, height, width, node[LEVEL] + 1):\n",
        "        continue\n",
        "      if node[LEVEL] == height - 1:\n",
        "        if not isValid(grid, columns, height, width):\n",
        "          continue\n",
        "        else:\n",
        "          return node[POSLIST]\n",
        "    if node[LEVEL] < height - 1:\n",
        "      permutationsList = getRowValidPermutations(rows[node[LEVEL] + 1], width, 0, 0)\n",
        "      nrBlankRows = 0\n",
        "      while permutationsList == []:\n",
        "        nrBlankRows += 1\n",
        "        permutationsList = getRowValidPermutations(rows[node[LEVEL] + nrBlankRows + 1], width, 0, 0)\n",
        "      for position in permutationsList:\n",
        "        childNode = {}\n",
        "        childNode[INDEX] = nextNodeIndexBFS\n",
        "        childNode[LEVEL] = node[LEVEL] + nrBlankRows + 1\n",
        "        childNode[CHILDREN] = {}\n",
        "        childNode[POSLIST] = cp.deepcopy(node[POSLIST])\n",
        "        for i in range(nrBlankRows):\n",
        "          childNode[POSLIST].append([])\n",
        "        childNode[POSLIST].append(position)\n",
        "        node[CHILDREN][nextNodeIndexBFS] = childNode\n",
        "        nextNodeIndexBFS += 1\n",
        "        queue.append(childNode)\n",
        "  return False\n",
        "def applyBFSResultToGrid(grid, solution, rows, width, height):\n",
        "  rowIndex = 0\n",
        "  if solution == False:\n",
        "    print('Nu a fost gasita o solutie')\n",
        "  for positions in solution:\n",
        "    applyPositionsToGrid(grid, rows[rowIndex], positions, rowIndex)\n",
        "\n",
        "\n",
        "\n",
        "\n",
        "    "
      ],
      "execution_count": 182,
      "outputs": []
    },
    {
      "cell_type": "code",
      "metadata": {
        "colab": {
          "base_uri": "https://localhost:8080/",
          "height": 265
        },
        "id": "o6diFEy1ieKC",
        "outputId": "bb6b10eb-7dc6-4053-9194-ef869c873c83"
      },
      "source": [
        "root = {}\n",
        "root[INDEX] = 0\n",
        "root[LEVEL] = -1\n",
        "root[CHILDREN] = {}\n",
        "root[POS] = []\n",
        "startTime = time.process_time()\n",
        "solution = dfsSearch(grid, root, height, width, rows, columns)\n",
        "generateGrid(grid, root, rows, height, width, solution)\n",
        "finishTime = time.process_time()\n",
        "output = {}\n",
        "output['strategy'] = 'dfs'\n",
        "output['nodesGenerated'] = nextNodeIndex\n",
        "output['nodesExpanded'] = nextNodeIndex\n",
        "output['time'] = finishTime - startTime\n",
        "output['solution'] = grid\n",
        "with open('Outputs/output_' + name +'_dfs.json', 'w') as outputFile: #trebuie creat folderul Outputs sau modificata calea\n",
        "  json.dump(output, outputFile)\n",
        "\n",
        "#decomentati pentru reprezentarea grafica a nonogramei\n",
        "#npGrid = np.matrix(grid)\n",
        "#G = np.zeros((height, width, 3))\n",
        "#G[npGrid>0.5] = [0, 0, 0]\n",
        "#G[npGrid<0.5] = [1, 1, 1]\n",
        "#plt.imshow(G, interpolation = 'nearest')\n",
        "#plt.show()\n"
      ],
      "execution_count": 183,
      "outputs": [
        {
          "output_type": "display_data",
          "data": {
            "image/png": "[encoded data removed]",
            "text/plain": [
              "<Figure size 432x288 with 1 Axes>"
            ]
          },
          "metadata": {
            "needs_background": "light"
          }
        }
      ]
    },
    {
      "cell_type": "code",
      "metadata": {
        "colab": {
          "base_uri": "https://localhost:8080/",
          "height": 369
        },
        "id": "5f5nBOS-6smu",
        "outputId": "0b746b54-f16c-4c43-9e37-5765f5d36d3c"
      },
      "source": [
        "#BFS. NU RULATI!! NU FUNCTIONEAZA\n",
        "root = {}\n",
        "root[INDEX] = 0\n",
        "root[LEVEL] = -1\n",
        "root[CHILDREN] = {}\n",
        "root[POSLIST] = []\n",
        "grid = [[0 for i in range(width)] for j in range(height)]\n",
        "solution = bfsSearch(grid, root, height, width, rows, columns)\n",
        "applyBFSResultToGrid(grid, solution, rows, width, height)\n",
        "npGrid = np.matrix(grid)\n",
        "G = np.zeros((height, width, 3))\n",
        "G[npGrid>0.5] = [0, 0, 0]\n",
        "G[npGrid<0.5] = [1, 1, 1]\n",
        "plt.imshow(G, interpolation = 'nearest')\n",
        "plt.show()\n"
      ],
      "execution_count": 170,
      "outputs": [
        {
          "output_type": "error",
          "ename": "KeyboardInterrupt",
          "evalue": "ignored",
          "traceback": [
            "\u001b[0;31m---------------------------------------------------------------------------\u001b[0m",
            "\u001b[0;31mKeyboardInterrupt\u001b[0m                         Traceback (most recent call last)",
            "\u001b[0;32m<ipython-input-170-a037d2260f25>\u001b[0m in \u001b[0;36m<module>\u001b[0;34m()\u001b[0m\n\u001b[1;32m      5\u001b[0m \u001b[0mroot\u001b[0m\u001b[0;34m[\u001b[0m\u001b[0mPOSLIST\u001b[0m\u001b[0;34m]\u001b[0m \u001b[0;34m=\u001b[0m \u001b[0;34m[\u001b[0m\u001b[0;34m]\u001b[0m\u001b[0;34m\u001b[0m\u001b[0;34m\u001b[0m\u001b[0m\n\u001b[1;32m      6\u001b[0m \u001b[0mgrid\u001b[0m \u001b[0;34m=\u001b[0m \u001b[0;34m[\u001b[0m\u001b[0;34m[\u001b[0m\u001b[0;36m0\u001b[0m \u001b[0;32mfor\u001b[0m \u001b[0mi\u001b[0m \u001b[0;32min\u001b[0m \u001b[0mrange\u001b[0m\u001b[0;34m(\u001b[0m\u001b[0mwidth\u001b[0m\u001b[0;34m)\u001b[0m\u001b[0;34m]\u001b[0m \u001b[0;32mfor\u001b[0m \u001b[0mj\u001b[0m \u001b[0;32min\u001b[0m \u001b[0mrange\u001b[0m\u001b[0;34m(\u001b[0m\u001b[0mheight\u001b[0m\u001b[0;34m)\u001b[0m\u001b[0;34m]\u001b[0m\u001b[0;34m\u001b[0m\u001b[0;34m\u001b[0m\u001b[0m\n\u001b[0;32m----> 7\u001b[0;31m \u001b[0msolution\u001b[0m \u001b[0;34m=\u001b[0m \u001b[0mbfsSearch\u001b[0m\u001b[0;34m(\u001b[0m\u001b[0mgrid\u001b[0m\u001b[0;34m,\u001b[0m \u001b[0mroot\u001b[0m\u001b[0;34m,\u001b[0m \u001b[0mheight\u001b[0m\u001b[0;34m,\u001b[0m \u001b[0mwidth\u001b[0m\u001b[0;34m,\u001b[0m \u001b[0mrows\u001b[0m\u001b[0;34m,\u001b[0m \u001b[0mcolumns\u001b[0m\u001b[0;34m)\u001b[0m\u001b[0;34m\u001b[0m\u001b[0;34m\u001b[0m\u001b[0m\n\u001b[0m\u001b[1;32m      8\u001b[0m \u001b[0mapplyBFSResultToGrid\u001b[0m\u001b[0;34m(\u001b[0m\u001b[0mgrid\u001b[0m\u001b[0;34m,\u001b[0m \u001b[0msolution\u001b[0m\u001b[0;34m,\u001b[0m \u001b[0mrows\u001b[0m\u001b[0;34m,\u001b[0m \u001b[0mwidth\u001b[0m\u001b[0;34m,\u001b[0m \u001b[0mheight\u001b[0m\u001b[0;34m)\u001b[0m\u001b[0;34m\u001b[0m\u001b[0;34m\u001b[0m\u001b[0m\n\u001b[1;32m      9\u001b[0m \u001b[0mnpGrid\u001b[0m \u001b[0;34m=\u001b[0m \u001b[0mnp\u001b[0m\u001b[0;34m.\u001b[0m\u001b[0mmatrix\u001b[0m\u001b[0;34m(\u001b[0m\u001b[0mgrid\u001b[0m\u001b[0;34m)\u001b[0m\u001b[0;34m\u001b[0m\u001b[0;34m\u001b[0m\u001b[0m\n",
            "\u001b[0;32m<ipython-input-169-d9f2c7b2b77d>\u001b[0m in \u001b[0;36mbfsSearch\u001b[0;34m(grid, node, height, width, rows, columns)\u001b[0m\n\u001b[1;32m     21\u001b[0m           \u001b[0;32mreturn\u001b[0m \u001b[0mnode\u001b[0m\u001b[0;34m[\u001b[0m\u001b[0mPOSLIST\u001b[0m\u001b[0;34m]\u001b[0m\u001b[0;34m\u001b[0m\u001b[0;34m\u001b[0m\u001b[0m\n\u001b[1;32m     22\u001b[0m     \u001b[0;32mif\u001b[0m \u001b[0mnode\u001b[0m\u001b[0;34m[\u001b[0m\u001b[0mLEVEL\u001b[0m\u001b[0;34m]\u001b[0m \u001b[0;34m<\u001b[0m \u001b[0mheight\u001b[0m \u001b[0;34m-\u001b[0m \u001b[0;36m1\u001b[0m\u001b[0;34m:\u001b[0m\u001b[0;34m\u001b[0m\u001b[0;34m\u001b[0m\u001b[0m\n\u001b[0;32m---> 23\u001b[0;31m       \u001b[0mpermutationsList\u001b[0m \u001b[0;34m=\u001b[0m \u001b[0mgetRowValidPermutations\u001b[0m\u001b[0;34m(\u001b[0m\u001b[0mrows\u001b[0m\u001b[0;34m[\u001b[0m\u001b[0mnode\u001b[0m\u001b[0;34m[\u001b[0m\u001b[0mLEVEL\u001b[0m\u001b[0;34m]\u001b[0m \u001b[0;34m+\u001b[0m \u001b[0;36m1\u001b[0m\u001b[0;34m]\u001b[0m\u001b[0;34m,\u001b[0m \u001b[0mwidth\u001b[0m\u001b[0;34m,\u001b[0m \u001b[0;36m0\u001b[0m\u001b[0;34m,\u001b[0m \u001b[0;36m0\u001b[0m\u001b[0;34m)\u001b[0m\u001b[0;34m\u001b[0m\u001b[0;34m\u001b[0m\u001b[0m\n\u001b[0m\u001b[1;32m     24\u001b[0m       \u001b[0mnrBlankRows\u001b[0m \u001b[0;34m=\u001b[0m \u001b[0;36m0\u001b[0m\u001b[0;34m\u001b[0m\u001b[0;34m\u001b[0m\u001b[0m\n\u001b[1;32m     25\u001b[0m       \u001b[0;32mwhile\u001b[0m \u001b[0mpermutationsList\u001b[0m \u001b[0;34m==\u001b[0m \u001b[0;34m[\u001b[0m\u001b[0;34m]\u001b[0m\u001b[0;34m:\u001b[0m\u001b[0;34m\u001b[0m\u001b[0;34m\u001b[0m\u001b[0m\n",
            "\u001b[0;32m<ipython-input-154-cfbb925d019e>\u001b[0m in \u001b[0;36mgetRowValidPermutations\u001b[0;34m(rowSequences, width, sequenceIndex, startPosition)\u001b[0m\n\u001b[1;32m     16\u001b[0m       \u001b[0mpermutationsList\u001b[0m \u001b[0;34m+=\u001b[0m \u001b[0;34m[\u001b[0m\u001b[0;34m[\u001b[0m\u001b[0mi\u001b[0m\u001b[0;34m]\u001b[0m\u001b[0;34m]\u001b[0m\u001b[0;34m\u001b[0m\u001b[0;34m\u001b[0m\u001b[0m\n\u001b[1;32m     17\u001b[0m     \u001b[0;32melse\u001b[0m\u001b[0;34m:\u001b[0m\u001b[0;34m\u001b[0m\u001b[0;34m\u001b[0m\u001b[0m\n\u001b[0;32m---> 18\u001b[0;31m       \u001b[0mpermutationsList\u001b[0m \u001b[0;34m+=\u001b[0m \u001b[0mlist\u001b[0m\u001b[0;34m(\u001b[0m\u001b[0mmap\u001b[0m\u001b[0;34m(\u001b[0m\u001b[0;32mlambda\u001b[0m \u001b[0mx\u001b[0m\u001b[0;34m:\u001b[0m \u001b[0;34m[\u001b[0m\u001b[0mi\u001b[0m\u001b[0;34m]\u001b[0m \u001b[0;34m+\u001b[0m \u001b[0mx\u001b[0m\u001b[0;34m,\u001b[0m \u001b[0mgetRowValidPermutations\u001b[0m\u001b[0;34m(\u001b[0m\u001b[0mrowSequences\u001b[0m\u001b[0;34m,\u001b[0m \u001b[0mwidth\u001b[0m\u001b[0;34m,\u001b[0m \u001b[0msequenceIndex\u001b[0m \u001b[0;34m+\u001b[0m \u001b[0;36m1\u001b[0m\u001b[0;34m,\u001b[0m \u001b[0mi\u001b[0m \u001b[0;34m+\u001b[0m \u001b[0mrowSequences\u001b[0m\u001b[0;34m[\u001b[0m\u001b[0msequenceIndex\u001b[0m\u001b[0;34m]\u001b[0m \u001b[0;34m+\u001b[0m \u001b[0;36m1\u001b[0m\u001b[0;34m)\u001b[0m\u001b[0;34m)\u001b[0m\u001b[0;34m)\u001b[0m\u001b[0;34m\u001b[0m\u001b[0;34m\u001b[0m\u001b[0m\n\u001b[0m\u001b[1;32m     19\u001b[0m   \u001b[0;32mreturn\u001b[0m \u001b[0mpermutationsList\u001b[0m\u001b[0;34m\u001b[0m\u001b[0;34m\u001b[0m\u001b[0m\n\u001b[1;32m     20\u001b[0m \u001b[0;31m#rows = [[1, 1, 1], [5], [3], [1, 1], [3]]\u001b[0m\u001b[0;34m\u001b[0m\u001b[0;34m\u001b[0m\u001b[0;34m\u001b[0m\u001b[0m\n",
            "\u001b[0;32m<ipython-input-154-cfbb925d019e>\u001b[0m in \u001b[0;36mgetRowValidPermutations\u001b[0;34m(rowSequences, width, sequenceIndex, startPosition)\u001b[0m\n\u001b[1;32m      9\u001b[0m     \u001b[0;32mreturn\u001b[0m \u001b[0;34m[\u001b[0m\u001b[0;34m]\u001b[0m\u001b[0;34m\u001b[0m\u001b[0;34m\u001b[0m\u001b[0m\n\u001b[1;32m     10\u001b[0m   \u001b[0mpermutationsList\u001b[0m \u001b[0;34m=\u001b[0m \u001b[0;34m[\u001b[0m\u001b[0;34m]\u001b[0m\u001b[0;34m\u001b[0m\u001b[0;34m\u001b[0m\u001b[0m\n\u001b[0;32m---> 11\u001b[0;31m   \u001b[0mendPosition\u001b[0m \u001b[0;34m=\u001b[0m \u001b[0mwidth\u001b[0m \u001b[0;34m-\u001b[0m \u001b[0mgetMinFreeSpace\u001b[0m\u001b[0;34m(\u001b[0m\u001b[0mrowSequences\u001b[0m\u001b[0;34m[\u001b[0m\u001b[0msequenceIndex\u001b[0m\u001b[0;34m:\u001b[0m\u001b[0;34m]\u001b[0m\u001b[0;34m)\u001b[0m\u001b[0;34m\u001b[0m\u001b[0;34m\u001b[0m\u001b[0m\n\u001b[0m\u001b[1;32m     12\u001b[0m   \u001b[0;31m#if sequenceIndex == len(rowSequences) - 1:\u001b[0m\u001b[0;34m\u001b[0m\u001b[0;34m\u001b[0m\u001b[0;34m\u001b[0m\u001b[0m\n\u001b[1;32m     13\u001b[0m   \u001b[0;31m# endPosition += 1\u001b[0m\u001b[0;34m\u001b[0m\u001b[0;34m\u001b[0m\u001b[0;34m\u001b[0m\u001b[0m\n",
            "\u001b[0;31mKeyboardInterrupt\u001b[0m: "
          ]
        }
      ]
    }
  ]
}